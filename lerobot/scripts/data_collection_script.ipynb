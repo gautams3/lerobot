{
  "nbformat": 4,
  "nbformat_minor": 0,
  "metadata": {
    "colab": {
      "provenance": [],
      "last_runtime": {
        "build_target": "//learning/grp/tools/ml_python:ml_notebook",
        "kind": "private"
      }
    },
    "kernelspec": {
      "name": "python3",
      "display_name": "Python 3"
    },
    "language_info": {
      "name": "python"
    }
  },
  "cells": [
    {
      "cell_type": "code",
      "metadata": {
        "id": "a4839e3c",
        "executionInfo": {
          "status": "ok",
          "timestamp": 1755129808018,
          "user_tz": 420,
          "elapsed": 58,
          "user": {
            "displayName": "Rishav Agarwal",
            "userId": "03527435018817834232"
          }
        },
        "outputId": "a3a42c13-e97b-4064-de49-db356f93a07c"
      },
      "source": [
        "\n",
        "def define_grid_and_working_area(p1, p2, p3, p4, grid_boundaries_size):\n",
        "    \"\"\"\n",
        "    Defines a working area and an encompassing grid based on four points.\n",
        "\n",
        "    Args:\n",
        "        p1, p2, p3, p4: Tuples representing the coordinates of the four points\n",
        "                        of the working area.\n",
        "\n",
        "    Returns:\n",
        "        A tuple containing:\n",
        "            - working_area_points: A list of the four input points.\n",
        "            - grid_boundaries: A tuple (x_min, x_max, y_min, y_max) defining\n",
        "                               the boundaries of the encompassing grid.\n",
        "    \"\"\"\n",
        "    working_area_points = [p1, p2, p3, p4]\n",
        "\n",
        "    # Determine grid boundaries based on the min and max coordinates of the working area points\n",
        "    x_coords = [p[0] for p in working_area_points]\n",
        "    y_coords = [p[1] for p in working_area_points]\n",
        "\n",
        "\n",
        "    grid_boundaries = (0, grid_boundaries_size[0], 0, grid_boundaries_size[1])\n",
        "\n",
        "    return working_area_points, grid_boundaries\n",
        "\n",
        "p1 = (5, 1)\n",
        "p2 = (13, 1)\n",
        "p3 = (13, 10)\n",
        "p4 = (5, 10)\n",
        "grid_boundaries_size = (18, 12)\n",
        "\n",
        "working_area, grid_boundaries = define_grid_and_working_area(p1, p2, p3, p4, grid_boundaries_size)\n",
        "print(\"Working Area Points:\", working_area)\n",
        "print(\"Grid Boundaries (x_min, x_max, y_min, y_max):\", grid_boundaries)"
      ],
      "execution_count": null,
      "outputs": [
        {
          "output_type": "stream",
          "name": "stdout",
          "text": [
            "Working Area Points: [(5, 1), (13, 1), (13, 10), (5, 10)]\n",
            "Grid Boundaries (x_min, x_max, y_min, y_max): (0, 18, 0, 12)\n"
          ]
        }
      ]
    },
    {
      "cell_type": "markdown",
      "metadata": {
        "id": "f33fe185"
      },
      "source": [
        "## Define block size\n",
        "\n",
        "### Subtask:\n",
        "Define the height and width of the block to be placed.\n"
      ]
    },
    {
      "cell_type": "markdown",
      "metadata": {
        "id": "b8bfe8ca"
      },
      "source": [
        "**Reasoning**:\n",
        "Define the variables `block_height` and `block_width` as specified in the instructions.\n",
        "\n"
      ]
    },
    {
      "cell_type": "code",
      "metadata": {
        "id": "ebd76a5e",
        "executionInfo": {
          "status": "ok",
          "timestamp": 1755129810625,
          "user_tz": 420,
          "elapsed": 5,
          "user": {
            "displayName": "Rishav Agarwal",
            "userId": "03527435018817834232"
          }
        },
        "outputId": "a990f1c0-6460-4009-92e6-4fe99349fb74"
      },
      "source": [
        "# Define the height and width of the block\n",
        "block_height = 2.0\n",
        "block_width = 3.0\n",
        "\n",
        "print(f\"Block Height: {block_height}\")\n",
        "print(f\"Block Width: {block_width}\")"
      ],
      "execution_count": null,
      "outputs": [
        {
          "output_type": "stream",
          "name": "stdout",
          "text": [
            "Block Height: 2.0\n",
            "Block Width: 3.0\n"
          ]
        }
      ]
    },
    {
      "cell_type": "code",
      "metadata": {
        "id": "c834df3c",
        "executionInfo": {
          "status": "ok",
          "timestamp": 1755131846745,
          "user_tz": 420,
          "elapsed": 54,
          "user": {
            "displayName": "Rishav Agarwal",
            "userId": "03527435018817834232"
          }
        },
        "outputId": "514f7adc-eddd-46e6-f72f-77b2cfce7177"
      },
      "source": [
        "import random\n",
        "import math\n",
        "\n",
        "def rotate_point(x, y, cx, cy, theta):\n",
        "    \"\"\"Rotates a point (x, y) around a center (cx, cy) by an angle theta.\"\"\"\n",
        "    translated_x = x - cx\n",
        "    translated_y = y - cy\n",
        "    rotated_x = translated_x * math.cos(theta) - translated_y * math.sin(theta)\n",
        "    rotated_y = translated_x * math.sin(theta) + translated_y * math.cos(theta)\n",
        "    return rotated_x + cx, rotated_y + cy\n",
        "\n",
        "def is_point_inside_polygon(point, polygon):\n",
        "    \"\"\"Checks if a point is inside a polygon using the ray casting algorithm.\"\"\"\n",
        "    x, y = point\n",
        "    n = len(polygon)\n",
        "    inside = False\n",
        "\n",
        "    p1x, p1y = polygon[0]\n",
        "    for i in range(n + 1):\n",
        "        p2x, p2y = polygon[i % n]\n",
        "        if y > min(p1y, p2y):\n",
        "            if y <= max(p1y, p2y):\n",
        "                if x <= max(p1x, p2x):\n",
        "                    if p1y != p2y:\n",
        "                        xinters = (y - p1y) * (p2x - p1x) / (p2y - p1y) + p1x\n",
        "                    if p1x == p2x or x <= xinters:\n",
        "                        inside = not inside\n",
        "        p1x, p1y = p2x, p2y\n",
        "\n",
        "    return inside\n",
        "\n",
        "\n",
        "def sample_valid_positions(working_area_points, block_width, block_height, num_samples, max_attempts=10000):\n",
        "    \"\"\"\n",
        "    Samples valid positions (xc, yc, theta) for a block within the working area\n",
        "    by sampling center points and angles independently.\n",
        "\n",
        "    Args:\n",
        "        working_area_points: A list of (x, y) tuples defining the working area.\n",
        "        block_width: The width of the block.\n",
        "        block_height: The height of the block.\n",
        "        num_samples: The desired number of valid samples.\n",
        "        max_attempts: The maximum number of sampling attempts.\n",
        "\n",
        "    Returns:\n",
        "        A list of (xc, yc, theta) tuples for valid positions, or an empty list\n",
        "        if the desired number of samples could not be found within max_attempts.\n",
        "    \"\"\"\n",
        "    valid_samples = []\n",
        "    attempts = 0\n",
        "\n",
        "    # Determine bounds for sampling center points based on working area\n",
        "    x_coords = [p[0] for p in working_area_points]\n",
        "    y_coords = [p[1] for p in working_area_points]\n",
        "    x_min, x_max = min(x_coords), max(x_coords)\n",
        "    y_min, y_max = min(y_coords), max(y_coords)\n",
        "\n",
        "    # Determine possible values for xc and yc that are multiples of 0.5 within working area bounds\n",
        "    possible_xc = [i * 0.5 for i in range(int(x_min * 2), int(x_max * 2) + 1)]\n",
        "    possible_yc = [i * 0.5 for i in range(int(y_min * 2), int(y_max * 2) + 1)]\n",
        "\n",
        "    # Determine possible values for theta that are multiples of 45 degrees (pi/4 radians)\n",
        "    possible_theta = [i * math.pi / 4 for i in range(8)] # 0, 45, 90, ..., 315 degrees\n",
        "\n",
        "\n",
        "    while len(valid_samples) < num_samples and attempts < max_attempts:\n",
        "        # Sample center point (xc, yc) from the possible values within working area bounds\n",
        "        xc = random.choice(possible_xc)\n",
        "        yc = random.choice(possible_yc)\n",
        "\n",
        "        # Sample orientation (theta) from the possible values independently\n",
        "        theta = random.choice(possible_theta)\n",
        "\n",
        "        # Define block corner points relative to its center (0,0)\n",
        "        half_width = block_width / 2\n",
        "        half_height = block_height / 2\n",
        "        block_corners_local = [\n",
        "            (-half_width, -half_height),\n",
        "            (half_width, -half_height),\n",
        "            (half_width, half_height),\n",
        "            (-half_width, half_height)\n",
        "        ]\n",
        "\n",
        "        # Rotate and translate block corner points\n",
        "        block_corners_global = []\n",
        "        all_corners_inside = True\n",
        "        for corner_x_local, corner_y_local in block_corners_local:\n",
        "            rotated_x, rotated_y = rotate_point(corner_x_local, corner_y_local, 0, 0, theta)\n",
        "            translated_x, translated_y = rotated_x + xc, rotated_y + yc\n",
        "            block_corners_global.append((translated_x, translated_y))\n",
        "\n",
        "            # Check if the corner is inside the working area polygon\n",
        "            if not is_point_inside_polygon((translated_x, translated_y), working_area_points):\n",
        "                all_corners_inside = False\n",
        "                break # No need to check other corners if one is outside\n",
        "\n",
        "        if all_corners_inside:\n",
        "            valid_samples.append((xc, yc, theta))\n",
        "\n",
        "        attempts += 1\n",
        "\n",
        "    return valid_samples\n",
        "\n",
        "# Example usage (assuming working_area and block_width, block_height are already defined):\n",
        "num_samples = 20\n",
        "valid_positions = sample_valid_positions(working_area, block_width, block_height, num_samples)\n",
        "\n",
        "print(f\"Found {len(valid_positions)} valid positions:\")\n",
        "for pos in valid_positions:\n",
        "    print(pos)"
      ],
      "execution_count": null,
      "outputs": [
        {
          "output_type": "stream",
          "name": "stdout",
          "text": [
            "Found 20 valid positions:\n",
            "(6.5, 5.0, 1.5707963267948966)\n",
            "(8.0, 7.0, 2.356194490192345)\n",
            "(10.5, 9.0, 0.0)\n",
            "(11.5, 6.5, 3.141592653589793)\n",
            "(10.5, 7.0, 5.497787143782138)\n",
            "(9.5, 3.0, 0.0)\n",
            "(7.5, 3.5, 4.71238898038469)\n",
            "(11.0, 5.5, 3.141592653589793)\n",
            "(11.5, 7.0, 1.5707963267948966)\n",
            "(11.0, 3.5, 3.9269908169872414)\n",
            "(9.0, 6.0, 5.497787143782138)\n",
            "(10.0, 4.5, 2.356194490192345)\n",
            "(10.0, 5.0, 3.141592653589793)\n",
            "(11.0, 4.0, 4.71238898038469)\n",
            "(10.0, 4.5, 1.5707963267948966)\n",
            "(11.0, 6.5, 3.9269908169872414)\n",
            "(10.5, 6.0, 0.7853981633974483)\n",
            "(8.5, 8.5, 1.5707963267948966)\n",
            "(7.0, 5.0, 0.7853981633974483)\n",
            "(9.5, 7.0, 2.356194490192345)\n"
          ]
        }
      ]
    },
    {
      "cell_type": "code",
      "metadata": {
        "colab": {
          "height": 526
        },
        "id": "73ed47e6",
        "executionInfo": {
          "status": "ok",
          "timestamp": 1755131930773,
          "user_tz": 420,
          "elapsed": 845,
          "user": {
            "displayName": "Rishav Agarwal",
            "userId": "03527435018817834232"
          }
        },
        "outputId": "6972ddf8-1b4b-4523-9b56-57352c757f85"
      },
      "source": [
        "import matplotlib.pyplot as plt\n",
        "import numpy as np\n",
        "import seaborn as sns # Import seaborn\n",
        "\n",
        "\n",
        "import math\n",
        "\n",
        "def get_block_corners(xc, yc, theta, block_width, block_height):\n",
        "    \"\"\"\n",
        "    Calculates the global coordinates of the block corners given its center,\n",
        "    orientation, width, and height.\n",
        "\n",
        "    Args:\n",
        "        xc, yc: The coordinates of the block's center.\n",
        "        theta: The rotation angle in radians.\n",
        "        block_width: The width of the block.\n",
        "        block_height: The height of the block.\n",
        "\n",
        "    Returns:\n",
        "        A list of (x, y) tuples representing the global coordinates of the\n",
        "        block's corners.\n",
        "    \"\"\"\n",
        "    half_width = block_width / 2\n",
        "    half_height = block_height / 2\n",
        "    block_corners_local = [\n",
        "        (-half_width, -half_height),\n",
        "        (half_width, -half_height),\n",
        "        (half_width, half_height),\n",
        "        (-half_width, half_height)\n",
        "    ]\n",
        "\n",
        "    block_corners_global = []\n",
        "    for corner_x_local, corner_y_local in block_corners_local:\n",
        "        rotated_x = corner_x_local * math.cos(theta) - corner_y_local * math.sin(theta)\n",
        "        rotated_y = corner_x_local * math.sin(theta) + corner_y_local * math.cos(theta)\n",
        "        translated_x, translated_y = rotated_x + xc, rotated_y + yc\n",
        "        block_corners_global.append((translated_x, translated_y))\n",
        "\n",
        "    return block_corners_global\n",
        "\n",
        "if valid_positions:\n",
        "    sample_xc, sample_yc, sample_theta = valid_positions[0]\n",
        "    block_corners = get_block_corners(sample_xc, sample_yc, sample_theta, block_width, block_height)\n",
        "    print(f\"Block corners for position ({sample_xc}, {sample_yc}, {sample_theta}):\")\n",
        "    for corner in block_corners:\n",
        "        print(corner)\n",
        "else:\n",
        "    print(\"No valid positions were found in the previous sampling.\")\n",
        "\n",
        "sns.set_style(\"whitegrid\")\n",
        "\n",
        "fig, ax = plt.subplots(figsize=(10, 10))\n",
        "\n",
        "# Plot the working area\n",
        "working_area_x = [p[0] for p in working_area] + [working_area[0][0]] # Close the polygon\n",
        "working_area_y = [p[1] for p in working_area] + [working_area[0][1]] # Close the polygon\n",
        "ax.plot(working_area_x, working_area_y, 'k-', label='Working Area')\n",
        "ax.fill(working_area_x, working_area_y, 'lightblue', alpha=0.5) # Fill the working area\n",
        "\n",
        "# Define and plot the bin location\n",
        "bin_points = [(1, 4), (5, 4), (5, 8), (1, 8)]\n",
        "bin_x = [p[0] for p in bin_points] + [bin_points[0][0]] # Close the polygon\n",
        "bin_y = [p[1] for p in bin_points] + [bin_points[0][1]] # Close the polygon\n",
        "ax.plot(bin_x, bin_y, 'g-', label='Bin Location')\n",
        "ax.fill(bin_x, bin_y, 'lightgreen', alpha=0.5) # Fill the bin area\n",
        "\n",
        "\n",
        "# Set axis limits based on grid boundaries\n",
        "x_min, x_max, y_min, y_max = grid_boundaries\n",
        "ax.set_xlim(x_min, x_max)\n",
        "ax.set_ylim(y_min, y_max)\n",
        "\n",
        "# Set axis ticks to be multiples of 1\n",
        "ax.set_xticks(np.arange(x_min, x_max + 1, 1))\n",
        "ax.set_yticks(np.arange(y_min, y_max + 1, 1))\n",
        "\n",
        "\n",
        "# Plot sampled block positions\n",
        "for i, (xc, yc, theta) in enumerate(valid_positions):\n",
        "    # Define local corner points of the block\n",
        "    half_width = block_width / 2\n",
        "    half_height = block_height / 2\n",
        "    block_corners_local = [\n",
        "        (-half_width, -half_height),\n",
        "        (half_width, -half_height),\n",
        "        (half_width, half_height),\n",
        "        (-half_width, half_height)\n",
        "    ]\n",
        "\n",
        "    # Rotate and translate block corner points to global coordinates\n",
        "    block_corners_global = []\n",
        "    for corner_x_local, corner_y_local in block_corners_local:\n",
        "        rotated_x, rotated_y = rotate_point(corner_x_local, corner_y_local, 0, 0, theta)\n",
        "        translated_x, translated_y = rotated_x + xc, rotated_y + yc\n",
        "        block_corners_global.append((translated_x, translated_y))\n",
        "\n",
        "\n",
        "    if i == 0:\n",
        "        ax.plot(xc, yc, 'bo', markersize=5, label='Sampled Position') # Plot center with label\n",
        "    else:\n",
        "        ax.plot(xc, yc, 'bo', markersize=5) # Plot center without label\n",
        "    line_length_multiplier = 0.3\n",
        "    orientation_point_x = xc + (block_corners_global[0][0] - xc) * line_length_multiplier\n",
        "    orientation_point_y = yc + (block_corners_global[0][1] - yc) * line_length_multiplier\n",
        "    orientation_line_x = [xc, orientation_point_x]\n",
        "    orientation_line_y = [yc, orientation_point_y]\n",
        "    ax.plot(orientation_line_x, orientation_line_y, 'g-', alpha=0.7)\n",
        "\n",
        "\n",
        "# Set aspect to equal\n",
        "ax.set_aspect('equal', adjustable='box')\n",
        "\n",
        "# Add labels and title\n",
        "ax.set_title('Grid, Working Area, Bin Location, and Sampled Block Positions')\n",
        "\n",
        "# Add legend (optional)\n",
        "ax.legend()\n",
        "\n",
        "# Display the plot\n",
        "plt.grid(True) # Add a grid for better visualization of the area\n",
        "plt.show()"
      ],
      "execution_count": null,
      "outputs": [
        {
          "output_type": "stream",
          "name": "stdout",
          "text": [
            "Block corners for position (6.5, 5.0, 1.5707963267948966):\n",
            "(7.5, 3.5)\n",
            "(7.5, 6.5)\n",
            "(5.5, 6.5)\n",
            "(5.5, 3.5)\n"
          ]
        },
        {
          "output_type": "display_data",
          "data": {
            "image/png": "[encoded data removed]",
            "text/plain": [
              "<Figure size 720x720 with 1 Axes>"
            ]
          },
          "metadata": {
            "image/png": {
              "height": 418,
              "width": 598
            }
          }
        }
      ]
    },
    {
      "cell_type": "code",
      "source": [],
      "metadata": {
        "id": "eVRem2eB5M_j"
      },
      "execution_count": null,
      "outputs": []
    }
  ]
}